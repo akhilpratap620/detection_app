{
 "cells": [
  {
   "cell_type": "code",
   "execution_count": 3,
   "metadata": {},
   "outputs": [
    {
     "ename": "ValueError",
     "evalue": "could not convert string to float: '--ip=127.0.0.1'",
     "output_type": "error",
     "traceback": [
      "\u001b[1;31m---------------------------------------------------------------------------\u001b[0m",
      "\u001b[1;31mValueError\u001b[0m                                Traceback (most recent call last)",
      "Cell \u001b[1;32mIn [3], line 1\u001b[0m\n\u001b[1;32m----> 1\u001b[0m alpha \u001b[39m=\u001b[39m \u001b[39mfloat\u001b[39;49m(sys\u001b[39m.\u001b[39;49margv[\u001b[39m1\u001b[39;49m]) \u001b[39mif\u001b[39;00m \u001b[39mlen\u001b[39m(sys\u001b[39m.\u001b[39margv) \u001b[39m>\u001b[39m \u001b[39m1\u001b[39m \u001b[39melse\u001b[39;00m \u001b[39m0.5\u001b[39m\n\u001b[0;32m      2\u001b[0m l1_ratio \u001b[39m=\u001b[39m \u001b[39mfloat\u001b[39m(sys\u001b[39m.\u001b[39margv[\u001b[39m2\u001b[39m]) \u001b[39mif\u001b[39;00m \u001b[39mlen\u001b[39m(sys\u001b[39m.\u001b[39margv) \u001b[39m>\u001b[39m \u001b[39m2\u001b[39m \u001b[39melse\u001b[39;00m \u001b[39m0.5\u001b[39m\n",
      "\u001b[1;31mValueError\u001b[0m: could not convert string to float: '--ip=127.0.0.1'"
     ]
    }
   ],
   "source": [
    "alpha = float(sys.argv[1]) if len(sys.argv) > 1 else 0.5\n",
    "l1_ratio = float(sys.argv[2]) if len(sys.argv) > 2 else 0.5"
   ]
  },
  {
   "cell_type": "code",
   "execution_count": 5,
   "metadata": {},
   "outputs": [
    {
     "data": {
      "text/plain": [
       "['c:\\\\Users\\\\somit\\\\Downloads\\\\project_ineuron\\\\deep_cnn_model\\\\env\\\\lib\\\\site-packages\\\\ipykernel_launcher.py',\n",
       " '--ip=127.0.0.1',\n",
       " '--stdin=9011',\n",
       " '--control=9009',\n",
       " '--hb=9008',\n",
       " '--Session.signature_scheme=\"hmac-sha256\"',\n",
       " '--Session.key=b\"5b41aeb9-d376-45a4-bf7e-b27ecc256c0f\"',\n",
       " '--shell=9010',\n",
       " '--transport=\"tcp\"',\n",
       " '--iopub=9012',\n",
       " '--f=c:\\\\Users\\\\somit\\\\AppData\\\\Roaming\\\\jupyter\\\\runtime\\\\kernel-v2-154400amK0i6V2brJ.json']"
      ]
     },
     "execution_count": 5,
     "metadata": {},
     "output_type": "execute_result"
    }
   ],
   "source": [
    "sys.argv"
   ]
  },
  {
   "cell_type": "code",
   "execution_count": 2,
   "metadata": {},
   "outputs": [],
   "source": [
    "import sys"
   ]
  }
 ],
 "metadata": {
  "kernelspec": {
   "display_name": "Python 3.8.13",
   "language": "python",
   "name": "python3"
  },
  "language_info": {
   "codemirror_mode": {
    "name": "ipython",
    "version": 3
   },
   "file_extension": ".py",
   "mimetype": "text/x-python",
   "name": "python",
   "nbconvert_exporter": "python",
   "pygments_lexer": "ipython3",
   "version": "3.8.13"
  },
  "orig_nbformat": 4,
  "vscode": {
   "interpreter": {
    "hash": "ba1bd28b16a38f018211652aa105661b438c2063da7f322657f6784ca8085c11"
   }
  }
 },
 "nbformat": 4,
 "nbformat_minor": 2
}
